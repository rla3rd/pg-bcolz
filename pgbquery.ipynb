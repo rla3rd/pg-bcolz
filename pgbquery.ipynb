{
 "cells": [
  {
   "cell_type": "code",
   "execution_count": 1,
   "metadata": {
    "collapsed": false
   },
   "outputs": [],
   "source": [
    "import pgbquery as bq\n",
    "import bcolz as bz\n",
    "import numpy as np\n",
    "import pandas as pd\n",
    "import os\n",
    "import datetime\n",
    "import operator\n",
    "from multicorn import Qual\n",
    "from sklearn.feature_extraction import DictVectorizer as DV"
   ]
  },
  {
   "cell_type": "markdown",
   "metadata": {},
   "source": [
    "initiate the bcolz table"
   ]
  },
  {
   "cell_type": "code",
   "execution_count": 14,
   "metadata": {
    "collapsed": false
   },
   "outputs": [
    {
     "ename": "TypeError",
     "evalue": "unbound method create_ctable() must be called with ctable instance as first argument (got ctable instance instead)",
     "output_type": "error",
     "traceback": [
      "\u001b[1;31m---------------------------------------------------------------------------\u001b[0m",
      "\u001b[1;31mTypeError\u001b[0m                                 Traceback (most recent call last)",
      "\u001b[1;32m<ipython-input-14-c78b8fc0716f>\u001b[0m in \u001b[0;36m<module>\u001b[1;34m()\u001b[0m\n\u001b[1;32m----> 1\u001b[1;33m \u001b[0mtest\u001b[0m \u001b[1;33m=\u001b[0m \u001b[0mbq\u001b[0m\u001b[1;33m.\u001b[0m\u001b[0mctable\u001b[0m\u001b[1;33m.\u001b[0m\u001b[0mcreate_ctable\u001b[0m\u001b[1;33m(\u001b[0m\u001b[0mtest\u001b[0m\u001b[1;33m,\u001b[0m \u001b[0mrootdir\u001b[0m\u001b[1;33m=\u001b[0m\u001b[1;34m'data/test'\u001b[0m\u001b[1;33m)\u001b[0m\u001b[1;33m\u001b[0m\u001b[0m\n\u001b[0m",
      "\u001b[1;31mTypeError\u001b[0m: unbound method create_ctable() must be called with ctable instance as first argument (got ctable instance instead)"
     ]
    }
   ],
   "source": [
    "test = bq.ctable.create_ctable(test, rootdir='data/test')"
   ]
  },
  {
   "cell_type": "markdown",
   "metadata": {},
   "source": [
    "append some data"
   ]
  },
  {
   "cell_type": "code",
   "execution_count": 3,
   "metadata": {
    "collapsed": false,
    "scrolled": true
   },
   "outputs": [],
   "source": [
    "test = bz.ctable([bz.carray(['a', 'b', 'c']), \n",
    "                  bz.carray([1,2,3]), \n",
    "                  bz.carray([datetime.date(2016,1,2), datetime.date(2016,1,3), datetime.date(2016,1,4)])\n",
    "                 ], ['letter', 'number', 'date'])"
   ]
  },
  {
   "cell_type": "markdown",
   "metadata": {},
   "source": [
    "write data from memory to disk"
   ]
  },
  {
   "cell_type": "code",
   "execution_count": null,
   "metadata": {
    "collapsed": false
   },
   "outputs": [],
   "source": [
    "# test.addcol(['letter a', 'letter b', 'letter c'], 'desc')\n",
    "#test.delcol('nulls')\n",
    "#test.addcol([True, True, False], name='booleans')\n",
    "c = bz.carray([1,np.nan, None], dtype='float64')\n",
    "test.addcol(c, name='nulls')"
   ]
  },
  {
   "cell_type": "markdown",
   "metadata": {},
   "source": [
    "load table to memory from disk"
   ]
  },
  {
   "cell_type": "code",
   "execution_count": 2,
   "metadata": {
    "collapsed": false
   },
   "outputs": [
    {
     "data": {
      "text/plain": [
       "dtype([('letter', 'S1'), ('number', '<i8'), ('date', 'O'), ('desc', 'S8'), ('floats', '<f8'), ('booleans', '?'), ('nulls', '<f8')])"
      ]
     },
     "execution_count": 2,
     "metadata": {},
     "output_type": "execute_result"
    }
   ],
   "source": [
    "test = bq.open('/home/ralbright/data/test', mode='a')\n",
    "test.dtype"
   ]
  },
  {
   "cell_type": "code",
   "execution_count": 3,
   "metadata": {
    "collapsed": false
   },
   "outputs": [
    {
     "data": {
      "text/plain": [
       "ctable((3,), [('letter', 'S1'), ('number', '<i8'), ('date', 'O'), ('desc', 'S8'), ('floats', '<f8'), ('booleans', '?'), ('nulls', '<f8')])\n",
       "  nbytes: 126; cbytes: 96.52 KB; ratio: 0.00\n",
       "  cparams := cparams(clevel=5, shuffle=True, cname='blosclz')\n",
       "  rootdir := '/home/ralbright/data/test'\n",
       "[('a', 1, datetime.date(2016, 1, 2), 'letter a', 56.43, True, 1.0)\n",
       " ('b', 2, datetime.date(2016, 1, 3), 'letter b', 354767327.34, True, nan)\n",
       " ('c', 3, datetime.date(2016, 1, 4), 'letter c', -589574.474567347, False, nan)]"
      ]
     },
     "execution_count": 3,
     "metadata": {},
     "output_type": "execute_result"
    }
   ],
   "source": [
    "test"
   ]
  },
  {
   "cell_type": "code",
   "execution_count": 18,
   "metadata": {
    "collapsed": false
   },
   "outputs": [
    {
     "data": {
      "text/plain": [
       "carray((6,), float64)\n",
       "  nbytes: 48; cbytes: 16.00 KB; ratio: 0.00\n",
       "  cparams := cparams(clevel=5, shuffle=True, cname='blosclz')\n",
       "[  1.   2.   3.  nan  nan  nan]"
      ]
     },
     "execution_count": 18,
     "metadata": {},
     "output_type": "execute_result"
    }
   ],
   "source": [
    "c"
   ]
  },
  {
   "cell_type": "code",
   "execution_count": 4,
   "metadata": {
    "collapsed": false
   },
   "outputs": [],
   "source": [
    "def execute(quals, columns):\n",
    "    filters = []\n",
    "    for qual in quals:\n",
    "        \n",
    "       if not qual.is_list_operator:\n",
    "            if type(qual.value) == str:\n",
    "                value = \"'%s'\" % qual.value\n",
    "            else:\n",
    "                value = qual.value\n",
    "            filters.append((str(qual.field_name), str(qual.operator), str(value)))\n",
    "       else:\n",
    "            op = qual.operator[0]\n",
    "            optype = qual.operator[1]\n",
    "            if op in ('=', '==') and optype == ANY:\n",
    "                operator = 'IN'\n",
    "            if op in ('!=', '<>') and optype == ANY:\n",
    "                operator = 'NOT IN'\n",
    "                filters.append((qual.fieldname, operator, qual.value))\n",
    "    if len(quals) > 0:            \n",
    "        boolarr = test.where_terms(filters)\n",
    "        for line in test.where(boolarr, outcols=test.names):\n",
    "            yield line\n",
    "    else:\n",
    "        for line in test.__iter__():\n",
    "            yield line"
   ]
  },
  {
   "cell_type": "code",
   "execution_count": 9,
   "metadata": {
    "collapsed": false
   },
   "outputs": [],
   "source": [
    "line = execute([Qual('nulls', 'is not', 'null')], test.names)"
   ]
  },
  {
   "cell_type": "code",
   "execution_count": 12,
   "metadata": {
    "collapsed": false,
    "scrolled": true
   },
   "outputs": [
    {
     "data": {
      "text/plain": [
       "row(letter='c', number=3, date=datetime.date(2016, 1, 4), desc='letter c', floats=-589574.474567347, booleans=False, nulls=nan)"
      ]
     },
     "execution_count": 12,
     "metadata": {},
     "output_type": "execute_result"
    }
   ],
   "source": [
    "line.next()"
   ]
  },
  {
   "cell_type": "code",
   "execution_count": 7,
   "metadata": {
    "collapsed": false
   },
   "outputs": [
    {
     "ename": "SyntaxError",
     "evalue": "invalid syntax (<ipython-input-7-1d26738a792b>, line 1)",
     "output_type": "error",
     "traceback": [
      "\u001b[1;36m  File \u001b[1;32m\"<ipython-input-7-1d26738a792b>\"\u001b[1;36m, line \u001b[1;32m1\u001b[0m\n\u001b[1;33m    cols=\u001b[0m\n\u001b[1;37m         ^\u001b[0m\n\u001b[1;31mSyntaxError\u001b[0m\u001b[1;31m:\u001b[0m invalid syntax\n"
     ]
    }
   ],
   "source": [
    "cols=\n",
    "cols[0]= bz.zeros(0, 'S25')\n",
    "cols[1] = bz.zeros(0, 'f8')\n"
   ]
  },
  {
   "cell_type": "code",
   "execution_count": 3,
   "metadata": {
    "collapsed": false
   },
   "outputs": [],
   "source": [
    "mask = test.where_terms([('nulls', 'is not', \"None\")])"
   ]
  },
  {
   "cell_type": "code",
   "execution_count": 4,
   "metadata": {
    "collapsed": false
   },
   "outputs": [],
   "source": [
    "w = test.where(mask)"
   ]
  },
  {
   "cell_type": "code",
   "execution_count": 7,
   "metadata": {
    "collapsed": false
   },
   "outputs": [
    {
     "data": {
      "text/plain": [
       "row(letter='c', number=3, date=datetime.date(2016, 1, 4), desc='letter c', floats=-589574.474567347, booleans=False, nulls=nan)"
      ]
     },
     "execution_count": 7,
     "metadata": {},
     "output_type": "execute_result"
    }
   ],
   "source": [
    "w.next()"
   ]
  },
  {
   "cell_type": "code",
   "execution_count": 8,
   "metadata": {
    "collapsed": false
   },
   "outputs": [
    {
     "name": "stdout",
     "output_type": "stream",
     "text": [
      "{'gt': <built-in function gt>, 'is not': <function notnull at 0x7f786be25488>, '~~': <function likeSearch at 0x7f786be25230>, 'is': <function isnull at 0x7f786be25410>, 'ne': <built-in function ne>, 'ge': <built-in function ge>, '!~~*': <function notLikeSearch_i at 0x7f786be25398>, 'eq': <built-in function eq>, '>&': <function leftBounded at 0x7f786be17ed8>, 'le': <built-in function le>, '~~*': <function likeSearch_i at 0x7f786be252a8>, '!~~': <function notLikeSearch at 0x7f786be25320>, 'ilike': <function likeSearch_i at 0x7f786be252a8>, 'similar to': <function regexSearch at 0x7f786be25050>, 'lt': <built-in function lt>, 'not similar to': <function notRegexSearch at 0x7f786be25140>, '&<': <function rightBounded at 0x7f786be17e60>, '~*': <function regexSearch_i at 0x7f786be250c8>, '&&': <function overlap at 0x7f786be17f50>, 'not ilike': <function likeSearch_i at 0x7f786be252a8>, '!~': <function notRegexSearch at 0x7f786be25140>, 'like': <function likeSearch at 0x7f786be25230>, 'not like': <function notLikeSearch at 0x7f786be25320>, '<@': <function reverseContains at 0x7f786be17cf8>, '@>': <built-in function contains>, '!~*': <function notRegexSearch_i at 0x7f786be251b8>, '~': <function regexSearch at 0x7f786be25050>}\n"
     ]
    }
   ],
   "source": [
    "from pgbquery.operatorFunctions import opMap\n",
    "print opMap\n"
   ]
  },
  {
   "cell_type": "code",
   "execution_count": 8,
   "metadata": {
    "collapsed": false
   },
   "outputs": [
    {
     "data": {
      "text/plain": [
       "['__class__',\n",
       " '__delattr__',\n",
       " '__dict__',\n",
       " '__doc__',\n",
       " '__enter__',\n",
       " '__exit__',\n",
       " '__format__',\n",
       " '__getattribute__',\n",
       " '__getitem__',\n",
       " '__hash__',\n",
       " '__init__',\n",
       " '__iter__',\n",
       " '__len__',\n",
       " '__module__',\n",
       " '__new__',\n",
       " '__reduce__',\n",
       " '__reduce_ex__',\n",
       " '__repr__',\n",
       " '__setattr__',\n",
       " '__setitem__',\n",
       " '__sizeof__',\n",
       " '__str__',\n",
       " '__subclasshook__',\n",
       " '__weakref__',\n",
       " '_get_stats',\n",
       " '_iter',\n",
       " '_where',\n",
       " 'addcol',\n",
       " 'aggregate_groups',\n",
       " 'append',\n",
       " 'cache_factor',\n",
       " 'cache_valid',\n",
       " 'cbytes',\n",
       " 'copy',\n",
       " 'cparams',\n",
       " 'create_agg_ctable',\n",
       " 'create_ctable',\n",
       " 'delcol',\n",
       " 'dtype',\n",
       " 'eval',\n",
       " 'factorize_groupby_cols',\n",
       " 'flush',\n",
       " 'free_cachemem',\n",
       " 'fromdataframe',\n",
       " 'fromhdf5',\n",
       " 'groupby',\n",
       " 'is_in_ordered_subgroups',\n",
       " 'iter',\n",
       " 'make_group_index',\n",
       " 'mkdir_rootdir',\n",
       " 'names',\n",
       " 'nbytes',\n",
       " 'ndim',\n",
       " 'open_ctable',\n",
       " 'resize',\n",
       " 'shape',\n",
       " 'size',\n",
       " 'todataframe',\n",
       " 'tohdf5',\n",
       " 'trim',\n",
       " 'unique',\n",
       " 'where',\n",
       " 'where_pgterms',\n",
       " 'where_terms',\n",
       " 'whereblocks']"
      ]
     },
     "execution_count": 8,
     "metadata": {},
     "output_type": "execute_result"
    }
   ],
   "source": [
    "from pgbquery.operatorFunctions"
   ]
  },
  {
   "cell_type": "code",
   "execution_count": 1,
   "metadata": {
    "collapsed": true
   },
   "outputs": [],
   "source": [
    "load_ext Cython"
   ]
  },
  {
   "cell_type": "code",
   "execution_count": 2,
   "metadata": {
    "collapsed": false
   },
   "outputs": [
    {
     "ename": "ImportError",
     "evalue": "libre2.so.0: cannot open shared object file: No such file or directory",
     "output_type": "error",
     "traceback": [
      "\u001b[1;31m---------------------------------------------------------------------------\u001b[0m",
      "\u001b[1;31mImportError\u001b[0m                               Traceback (most recent call last)",
      "\u001b[1;32m<ipython-input-2-b37ff3bf558c>\u001b[0m in \u001b[0;36m<module>\u001b[1;34m()\u001b[0m\n\u001b[1;32m----> 1\u001b[1;33m \u001b[0mget_ipython\u001b[0m\u001b[1;33m(\u001b[0m\u001b[1;33m)\u001b[0m\u001b[1;33m.\u001b[0m\u001b[0mrun_cell_magic\u001b[0m\u001b[1;33m(\u001b[0m\u001b[1;34mu'cython'\u001b[0m\u001b[1;33m,\u001b[0m \u001b[1;34mu'-a'\u001b[0m\u001b[1;33m,\u001b[0m \u001b[1;34mu'import re2\\nimport operator\\ndir(operator)\\nprint operator.eq(1,2)'\u001b[0m\u001b[1;33m)\u001b[0m\u001b[1;33m\u001b[0m\u001b[0m\n\u001b[0m",
      "\u001b[1;32m/home/ralbright/anaconda2/lib/python2.7/site-packages/IPython/core/interactiveshell.pyc\u001b[0m in \u001b[0;36mrun_cell_magic\u001b[1;34m(self, magic_name, line, cell)\u001b[0m\n\u001b[0;32m   2291\u001b[0m             \u001b[0mmagic_arg_s\u001b[0m \u001b[1;33m=\u001b[0m \u001b[0mself\u001b[0m\u001b[1;33m.\u001b[0m\u001b[0mvar_expand\u001b[0m\u001b[1;33m(\u001b[0m\u001b[0mline\u001b[0m\u001b[1;33m,\u001b[0m \u001b[0mstack_depth\u001b[0m\u001b[1;33m)\u001b[0m\u001b[1;33m\u001b[0m\u001b[0m\n\u001b[0;32m   2292\u001b[0m             \u001b[1;32mwith\u001b[0m \u001b[0mself\u001b[0m\u001b[1;33m.\u001b[0m\u001b[0mbuiltin_trap\u001b[0m\u001b[1;33m:\u001b[0m\u001b[1;33m\u001b[0m\u001b[0m\n\u001b[1;32m-> 2293\u001b[1;33m                 \u001b[0mresult\u001b[0m \u001b[1;33m=\u001b[0m \u001b[0mfn\u001b[0m\u001b[1;33m(\u001b[0m\u001b[0mmagic_arg_s\u001b[0m\u001b[1;33m,\u001b[0m \u001b[0mcell\u001b[0m\u001b[1;33m)\u001b[0m\u001b[1;33m\u001b[0m\u001b[0m\n\u001b[0m\u001b[0;32m   2294\u001b[0m             \u001b[1;32mreturn\u001b[0m \u001b[0mresult\u001b[0m\u001b[1;33m\u001b[0m\u001b[0m\n\u001b[0;32m   2295\u001b[0m \u001b[1;33m\u001b[0m\u001b[0m\n",
      "\u001b[1;32m<decorator-gen-125>\u001b[0m in \u001b[0;36mcython\u001b[1;34m(self, line, cell)\u001b[0m\n",
      "\u001b[1;32m/home/ralbright/anaconda2/lib/python2.7/site-packages/IPython/core/magic.pyc\u001b[0m in \u001b[0;36m<lambda>\u001b[1;34m(f, *a, **k)\u001b[0m\n\u001b[0;32m    191\u001b[0m     \u001b[1;31m# but it's overkill for just that one bit of state.\u001b[0m\u001b[1;33m\u001b[0m\u001b[1;33m\u001b[0m\u001b[0m\n\u001b[0;32m    192\u001b[0m     \u001b[1;32mdef\u001b[0m \u001b[0mmagic_deco\u001b[0m\u001b[1;33m(\u001b[0m\u001b[0marg\u001b[0m\u001b[1;33m)\u001b[0m\u001b[1;33m:\u001b[0m\u001b[1;33m\u001b[0m\u001b[0m\n\u001b[1;32m--> 193\u001b[1;33m         \u001b[0mcall\u001b[0m \u001b[1;33m=\u001b[0m \u001b[1;32mlambda\u001b[0m \u001b[0mf\u001b[0m\u001b[1;33m,\u001b[0m \u001b[1;33m*\u001b[0m\u001b[0ma\u001b[0m\u001b[1;33m,\u001b[0m \u001b[1;33m**\u001b[0m\u001b[0mk\u001b[0m\u001b[1;33m:\u001b[0m \u001b[0mf\u001b[0m\u001b[1;33m(\u001b[0m\u001b[1;33m*\u001b[0m\u001b[0ma\u001b[0m\u001b[1;33m,\u001b[0m \u001b[1;33m**\u001b[0m\u001b[0mk\u001b[0m\u001b[1;33m)\u001b[0m\u001b[1;33m\u001b[0m\u001b[0m\n\u001b[0m\u001b[0;32m    194\u001b[0m \u001b[1;33m\u001b[0m\u001b[0m\n\u001b[0;32m    195\u001b[0m         \u001b[1;32mif\u001b[0m \u001b[0mcallable\u001b[0m\u001b[1;33m(\u001b[0m\u001b[0marg\u001b[0m\u001b[1;33m)\u001b[0m\u001b[1;33m:\u001b[0m\u001b[1;33m\u001b[0m\u001b[0m\n",
      "\u001b[1;32m/home/ralbright/anaconda2/lib/python2.7/site-packages/Cython/Build/IpythonMagic.pyc\u001b[0m in \u001b[0;36mcython\u001b[1;34m(self, line, cell)\u001b[0m\n\u001b[0;32m    279\u001b[0m             \u001b[0mself\u001b[0m\u001b[1;33m.\u001b[0m\u001b[0m_code_cache\u001b[0m\u001b[1;33m[\u001b[0m\u001b[0mkey\u001b[0m\u001b[1;33m]\u001b[0m \u001b[1;33m=\u001b[0m \u001b[0mmodule_name\u001b[0m\u001b[1;33m\u001b[0m\u001b[0m\n\u001b[0;32m    280\u001b[0m \u001b[1;33m\u001b[0m\u001b[0m\n\u001b[1;32m--> 281\u001b[1;33m         \u001b[0mmodule\u001b[0m \u001b[1;33m=\u001b[0m \u001b[0mimp\u001b[0m\u001b[1;33m.\u001b[0m\u001b[0mload_dynamic\u001b[0m\u001b[1;33m(\u001b[0m\u001b[0mmodule_name\u001b[0m\u001b[1;33m,\u001b[0m \u001b[0mmodule_path\u001b[0m\u001b[1;33m)\u001b[0m\u001b[1;33m\u001b[0m\u001b[0m\n\u001b[0m\u001b[0;32m    282\u001b[0m         \u001b[0mself\u001b[0m\u001b[1;33m.\u001b[0m\u001b[0m_import_all\u001b[0m\u001b[1;33m(\u001b[0m\u001b[0mmodule\u001b[0m\u001b[1;33m)\u001b[0m\u001b[1;33m\u001b[0m\u001b[0m\n\u001b[0;32m    283\u001b[0m \u001b[1;33m\u001b[0m\u001b[0m\n",
      "\u001b[1;32m_cython_magic_ab05a40196ad7333447ef286d680c6a0.pyx\u001b[0m in \u001b[0;36minit _cython_magic_ab05a40196ad7333447ef286d680c6a0 (/home/ralbright/.cache/ipython/cython/_cython_magic_ab05a40196ad7333447ef286d680c6a0.c:779)\u001b[1;34m()\u001b[0m\n",
      "\u001b[1;31mImportError\u001b[0m: libre2.so.0: cannot open shared object file: No such file or directory"
     ]
    }
   ],
   "source": [
    "%%cython -a\n",
    "import re2\n",
    "import operator\n",
    "dir(operator)\n",
    "print operator.eq(1,2)"
   ]
  },
  {
   "cell_type": "code",
   "execution_count": null,
   "metadata": {
    "collapsed": true
   },
   "outputs": [],
   "source": []
  }
 ],
 "metadata": {
  "kernelspec": {
   "display_name": "Python 2",
   "language": "python",
   "name": "python2"
  },
  "language_info": {
   "codemirror_mode": {
    "name": "ipython",
    "version": 2
   },
   "file_extension": ".py",
   "mimetype": "text/x-python",
   "name": "python",
   "nbconvert_exporter": "python",
   "pygments_lexer": "ipython2",
   "version": "2.7.11"
  }
 },
 "nbformat": 4,
 "nbformat_minor": 0
}
